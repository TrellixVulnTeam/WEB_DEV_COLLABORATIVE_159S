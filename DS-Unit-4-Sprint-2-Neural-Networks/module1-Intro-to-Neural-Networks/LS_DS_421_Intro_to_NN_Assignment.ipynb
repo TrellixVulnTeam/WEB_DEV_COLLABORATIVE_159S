{
 "cells": [
  {
   "cell_type": "markdown",
   "metadata": {
    "colab_type": "text",
    "id": "dVfaLrjLvxvQ"
   },
   "source": [
    "<img align=\"left\" src=\"https://lever-client-logos.s3.amazonaws.com/864372b1-534c-480e-acd5-9711f850815c-1524247202159.png\" width=200>\n",
    "<br></br>\n",
    "<br></br>\n",
    "\n",
    "# Neural Networks\n",
    "\n",
    "## *Data Science Unit 4 Sprint 2 Assignment 1*"
   ]
  },
  {
   "cell_type": "markdown",
   "metadata": {
    "colab_type": "text",
    "id": "wxtoY12mwmih"
   },
   "source": [
    "## Define the Following:\n",
    "You can add image, diagrams, whatever you need to ensure that you understand the concepts below.\n",
    "\n",
    "### Input Layer:\n",
    "Model features. Raw data for the network. \n",
    "### Hidden Layer:\n",
    "Literally hidden layers within the model.\n",
    "### Output Layer:\n",
    "Target variables. This is what is predicted. There are always the same number of output nodes as there are possible output classifications.\n",
    "### Neuron:\n",
    "They take in inputs multiplies them by a weight, then performs an activation function and sends the output to the next layer of the network.\n",
    "### Weight:\n",
    "The coefficient of a neuron - typically derived from the data.\n",
    "### Activation Function:\n",
    "This function determines the amount of signal to pass to the next layer from any given neuron. Sigmoid, for example.\n",
    "### Node Map:\n",
    "Visual representation of the structure of a neural net.\n",
    "### Perceptron:\n",
    "Very simple neural net. Typically a just an input layer and an output layer."
   ]
  },
  {
   "cell_type": "markdown",
   "metadata": {
    "colab_type": "text",
    "id": "NXuy9WcWzxa4"
   },
   "source": [
    "## Inputs -> Outputs\n",
    "\n",
    "### Explain the flow of information through a neural network from inputs to outputs. Be sure to include: inputs, weights, bias, and activation functions. How does it all flow from beginning to end?"
   ]
  },
  {
   "cell_type": "markdown",
   "metadata": {
    "colab_type": "text",
    "id": "PlSwIJMC0A8F"
   },
   "source": [
    "Using the home price example:\n",
    "\n",
    "There are 3 inputs when determining price -- sq ft, number of bathrooms, number of bedrooms:\n",
    "\n",
    "input1 = 2000sq ft, \n",
    "weight1 = 180 (average price per sq ft of data) \n",
    "\n",
    "input2 = 4 bathrooms, \n",
    "weight2 = 200 (average price per bathroom of data) \n",
    "\n",
    "input3 = 6 bedrooms, \n",
    "weight3 = 350 (average price per bedroom of data) activation function = sigmoid bias = 175 (picked arbitrarily)\n",
    "\n",
    "output = sigmoid((weight1 input1) + (weight2 input2) + (weight3 * input3) + bias)\n",
    "\n",
    "![alt text](https://schwalbe10.github.io/thinkage/images/posts/perceptron.png)"
   ]
  },
  {
   "cell_type": "markdown",
   "metadata": {
    "colab_type": "text",
    "id": "6sWR43PTwhSk"
   },
   "source": [
    "## Write your own perceptron code that can correctly classify (99.0% accuracy) a NAND gate. \n",
    "\n",
    "| x1 | x2 | y |\n",
    "|----|----|---|\n",
    "| 0  | 0  | 1 |\n",
    "| 1  | 0  | 1 |\n",
    "| 0  | 1  | 1 |\n",
    "| 1  | 1  | 0 |"
   ]
  },
  {
   "cell_type": "code",
   "execution_count": 1,
   "metadata": {
    "colab": {},
    "colab_type": "code",
    "id": "Rg6yeJWCIFMI"
   },
   "outputs": [],
   "source": [
    "import pandas as pd\n",
    "import numpy as np\n",
    "import matplotlib.pyplot as plt\n",
    "\n",
    "\n",
    "data = { 'x1': [0,1,0,1],\n",
    "         'x2': [0,0,1,1],\n",
    "         'y':  [1,1,1,0]\n",
    "       }\n",
    "\n",
    "df = pd.DataFrame.from_dict(data).astype('int')"
   ]
  },
  {
   "cell_type": "code",
   "execution_count": 2,
   "metadata": {
    "colab": {},
    "colab_type": "code",
    "id": "nJ6ZCJMf-Pta"
   },
   "outputs": [],
   "source": [
    "def sigmoid(x):\n",
    "    return 1 / (1 + np.exp(-x))\n",
    "\n",
    "\n",
    "def sigmoid_derivative(x):\n",
    "    sx = sigmoid(x)\n",
    "    return sx * (1-sx)"
   ]
  },
  {
   "cell_type": "code",
   "execution_count": 3,
   "metadata": {
    "colab": {
     "base_uri": "https://localhost:8080/",
     "height": 153
    },
    "colab_type": "code",
    "id": "Sgh7VFGwnXGH",
    "outputId": "a5f8462f-6506-4718-8d69-cbaffa926b24"
   },
   "outputs": [
    {
     "name": "stdout",
     "output_type": "stream",
     "text": [
      "[[0 0]\n",
      " [1 0]\n",
      " [0 1]\n",
      " [1 1]]\n"
     ]
    },
    {
     "data": {
      "text/plain": [
       "array([[1],\n",
       "       [1],\n",
       "       [1],\n",
       "       [0]])"
      ]
     },
     "execution_count": 3,
     "metadata": {},
     "output_type": "execute_result"
    }
   ],
   "source": [
    "inputs = np.array(df[['x1', 'x2']])\n",
    "outputs = np.array(df[['y']])\n",
    "print(inputs)\n",
    "outputs"
   ]
  },
  {
   "cell_type": "code",
   "execution_count": 4,
   "metadata": {
    "colab": {},
    "colab_type": "code",
    "id": "XaM-YZpLIFMQ"
   },
   "outputs": [],
   "source": [
    "bias = 2 * np.random.random((1,1)) - 1\n",
    "weights = 2 * np.random.random((2,1)) - 1\n",
    "weighted_sum = np.dot(inputs, weights) + bias\n",
    "\n",
    "activated_output = sigmoid(weighted_sum)\n",
    "\n",
    "error = outputs - activated_output\n",
    "\n",
    "adjusted = error * sigmoid_derivative(activated_output)"
   ]
  },
  {
   "cell_type": "code",
   "execution_count": 5,
   "metadata": {
    "colab": {
     "base_uri": "https://localhost:8080/",
     "height": 153
    },
    "colab_type": "code",
    "id": "rcMOjV_T-e84",
    "outputId": "44ae24bc-b009-4990-9bf4-30a8878284ac"
   },
   "outputs": [
    {
     "name": "stdout",
     "output_type": "stream",
     "text": [
      "Weights after training\n",
      "[[-12.5528237]\n",
      " [-12.5528237]]\n",
      "Output after training\n",
      "[[0.99999999]\n",
      " [0.99833612]\n",
      " [0.99833612]\n",
      " [0.0021169 ]]\n"
     ]
    }
   ],
   "source": [
    "for iteration in range(10000):\n",
    "    # Weighted sum of inputs / weights\n",
    "    weighted_sum = np.dot(inputs, weights) + bias\n",
    "    # Activate!\n",
    "    activated_output = sigmoid(weighted_sum)\n",
    "    # Cac error\n",
    "    error = outputs - activated_output\n",
    "    adjustments = error * sigmoid_derivative(activated_output)\n",
    "    # Update the bias\n",
    "    bias += np.mean(error)\n",
    "    # Update the Weights\n",
    "    weights += np.dot(inputs.T, adjustments)\n",
    "    \n",
    "\n",
    "print(\"Weights after training\")\n",
    "print(weights)\n",
    "\n",
    "print(\"Output after training\")\n",
    "print(activated_output)"
   ]
  },
  {
   "cell_type": "markdown",
   "metadata": {
    "colab_type": "text",
    "id": "Xf7sdqVs0s4x"
   },
   "source": [
    "## Implement your own Perceptron Class and use it to classify a binary dataset: \n",
    "- [The Pima Indians Diabetes dataset](https://raw.githubusercontent.com/ryanleeallred/datasets/master/diabetes.csv) \n",
    "\n",
    "You may need to search for other's implementations in order to get inspiration for your own. There are *lots* of perceptron implementations on the internet with varying levels of sophistication and complexity. Whatever your approach, make sure you understand **every** line of your implementation and what its purpose is."
   ]
  },
  {
   "cell_type": "code",
   "execution_count": 6,
   "metadata": {
    "colab": {
     "base_uri": "https://localhost:8080/",
     "height": 204
    },
    "colab_type": "code",
    "id": "dpAinHQ1IFMU",
    "outputId": "9c57b43c-cd2e-4ea8-a6d8-635969afbf5e"
   },
   "outputs": [
    {
     "data": {
      "text/html": [
       "<div>\n",
       "<style scoped>\n",
       "    .dataframe tbody tr th:only-of-type {\n",
       "        vertical-align: middle;\n",
       "    }\n",
       "\n",
       "    .dataframe tbody tr th {\n",
       "        vertical-align: top;\n",
       "    }\n",
       "\n",
       "    .dataframe thead th {\n",
       "        text-align: right;\n",
       "    }\n",
       "</style>\n",
       "<table border=\"1\" class=\"dataframe\">\n",
       "  <thead>\n",
       "    <tr style=\"text-align: right;\">\n",
       "      <th></th>\n",
       "      <th>Pregnancies</th>\n",
       "      <th>Glucose</th>\n",
       "      <th>BloodPressure</th>\n",
       "      <th>SkinThickness</th>\n",
       "      <th>Insulin</th>\n",
       "      <th>BMI</th>\n",
       "      <th>DiabetesPedigreeFunction</th>\n",
       "      <th>Age</th>\n",
       "      <th>Outcome</th>\n",
       "    </tr>\n",
       "  </thead>\n",
       "  <tbody>\n",
       "    <tr>\n",
       "      <th>0</th>\n",
       "      <td>6</td>\n",
       "      <td>148</td>\n",
       "      <td>72</td>\n",
       "      <td>35</td>\n",
       "      <td>0</td>\n",
       "      <td>33.6</td>\n",
       "      <td>0.627</td>\n",
       "      <td>50</td>\n",
       "      <td>1</td>\n",
       "    </tr>\n",
       "    <tr>\n",
       "      <th>1</th>\n",
       "      <td>1</td>\n",
       "      <td>85</td>\n",
       "      <td>66</td>\n",
       "      <td>29</td>\n",
       "      <td>0</td>\n",
       "      <td>26.6</td>\n",
       "      <td>0.351</td>\n",
       "      <td>31</td>\n",
       "      <td>0</td>\n",
       "    </tr>\n",
       "    <tr>\n",
       "      <th>2</th>\n",
       "      <td>8</td>\n",
       "      <td>183</td>\n",
       "      <td>64</td>\n",
       "      <td>0</td>\n",
       "      <td>0</td>\n",
       "      <td>23.3</td>\n",
       "      <td>0.672</td>\n",
       "      <td>32</td>\n",
       "      <td>1</td>\n",
       "    </tr>\n",
       "    <tr>\n",
       "      <th>3</th>\n",
       "      <td>1</td>\n",
       "      <td>89</td>\n",
       "      <td>66</td>\n",
       "      <td>23</td>\n",
       "      <td>94</td>\n",
       "      <td>28.1</td>\n",
       "      <td>0.167</td>\n",
       "      <td>21</td>\n",
       "      <td>0</td>\n",
       "    </tr>\n",
       "    <tr>\n",
       "      <th>4</th>\n",
       "      <td>0</td>\n",
       "      <td>137</td>\n",
       "      <td>40</td>\n",
       "      <td>35</td>\n",
       "      <td>168</td>\n",
       "      <td>43.1</td>\n",
       "      <td>2.288</td>\n",
       "      <td>33</td>\n",
       "      <td>1</td>\n",
       "    </tr>\n",
       "  </tbody>\n",
       "</table>\n",
       "</div>"
      ],
      "text/plain": [
       "   Pregnancies  Glucose  BloodPressure  SkinThickness  Insulin   BMI  \\\n",
       "0            6      148             72             35        0  33.6   \n",
       "1            1       85             66             29        0  26.6   \n",
       "2            8      183             64              0        0  23.3   \n",
       "3            1       89             66             23       94  28.1   \n",
       "4            0      137             40             35      168  43.1   \n",
       "\n",
       "   DiabetesPedigreeFunction  Age  Outcome  \n",
       "0                     0.627   50        1  \n",
       "1                     0.351   31        0  \n",
       "2                     0.672   32        1  \n",
       "3                     0.167   21        0  \n",
       "4                     2.288   33        1  "
      ]
     },
     "execution_count": 6,
     "metadata": {},
     "output_type": "execute_result"
    }
   ],
   "source": [
    "diabetes = pd.read_csv('https://raw.githubusercontent.com/ryanleeallred/datasets/master/diabetes.csv')\n",
    "diabetes.head()"
   ]
  },
  {
   "cell_type": "markdown",
   "metadata": {
    "colab_type": "text",
    "id": "S7NHln4WIFMZ"
   },
   "source": [
    "Although neural networks can handle non-normalized data, scaling or normalizing your data will improve your neural network's learning speed. Try to apply the sklearn `MinMaxScaler` or `Normalizer` to your diabetes dataset. "
   ]
  },
  {
   "cell_type": "code",
   "execution_count": 7,
   "metadata": {
    "colab": {},
    "colab_type": "code",
    "id": "J8pvFNwWIFMa"
   },
   "outputs": [],
   "source": [
    "from sklearn.preprocessing import MinMaxScaler, Normalizer\n",
    "from sklearn.metrics import accuracy_score\n",
    "\n",
    "\n",
    "feats = list(diabetes)[:-1]\n",
    "\n",
    "X = np.array(diabetes[feats])\n",
    "y = np.array(diabetes[['Outcome']])\n",
    "\n",
    "MinMax = MinMaxScaler()\n",
    "X = MinMax.fit_transform(X)"
   ]
  },
  {
   "cell_type": "code",
   "execution_count": 8,
   "metadata": {
    "colab": {},
    "colab_type": "code",
    "id": "-W0tiX1F1hh2"
   },
   "outputs": [],
   "source": [
    "class Perceptron:\n",
    "    \n",
    "    def __init__(self, niter = 10):\n",
    "        self.niter = niter\n",
    "    \n",
    "    def sigmoid(self, x):\n",
    "        return 1 / (1 + np.exp(-x))\n",
    "    \n",
    "    def sigmoid_derivative(self, x):\n",
    "        sx = self.sigmoid(x)\n",
    "        return sx * (1-sx)\n",
    "\n",
    "    def fit(self, X, y):\n",
    "        \"\"\"Fit training data\n",
    "        X : Training vectors, X.shape : [#samples, #features]\n",
    "        y : Target values, y.shape : [#samples]\n",
    "        \"\"\"\n",
    "\n",
    "        # Randomly Initialize Weights\n",
    "        self.weights = 2 * np.random.random((X.shape[1], 1)) -1\n",
    "    \n",
    "        # Randomly Initialize Bias\n",
    "        self.bias = 2 * np.random.random() - 1\n",
    "\n",
    "        for i in range(self.niter):\n",
    "        \n",
    "            # Weighted sum of inputs / weights\n",
    "            weighted_sum = np.dot(X, self.weights) + self.bias\n",
    "        \n",
    "            # Activate!\n",
    "            activated_output = self.sigmoid(weighted_sum)\n",
    "        \n",
    "            # Calc error\n",
    "            error = y - activated_output\n",
    "            \n",
    "            # Update the Weights & Bias\n",
    "            adjustments = error * self.sigmoid_derivative(activated_output)\n",
    "            self.weights += np.dot(X.T, adjustments)\n",
    "            self.bias += np.mean(error)\n",
    "\n",
    "    def predict(self, X):\n",
    "        \"\"\"Return class label after unit step\"\"\"\n",
    "        \n",
    "        weighted_sum = np.dot(X, self.weights) + self.bias\n",
    "        return np.round(self.sigmoid(weighted_sum))"
   ]
  },
  {
   "cell_type": "code",
   "execution_count": 9,
   "metadata": {
    "colab": {},
    "colab_type": "code",
    "id": "olU0LbuN_e1q"
   },
   "outputs": [],
   "source": [
    "model = Perceptron(niter=10)\n",
    "model.fit(X, y)\n",
    "test = model.predict(X).astype(int)"
   ]
  },
  {
   "cell_type": "code",
   "execution_count": 10,
   "metadata": {
    "colab": {
     "base_uri": "https://localhost:8080/",
     "height": 34
    },
    "colab_type": "code",
    "id": "fJnr6TqEAfyr",
    "outputId": "00087343-18cb-4751-c481-48eae68c9cbd"
   },
   "outputs": [
    {
     "name": "stdout",
     "output_type": "stream",
     "text": [
      "Accuracy Score: 49.87\n"
     ]
    }
   ],
   "source": [
    "print(f\"Accuracy Score: {100 * accuracy_score(test, y) :.2f}\")"
   ]
  },
  {
   "cell_type": "markdown",
   "metadata": {
    "colab_type": "text",
    "id": "6QR4oAW1xdyu"
   },
   "source": [
    "## Stretch Goals:\n",
    "\n",
    "- Research \"backpropagation\" to learn how weights get updated in neural networks (tomorrow's lecture). \n",
    "- Implement a multi-layer perceptron. (for non-linearly separable classes)\n",
    "- Try and implement your own backpropagation algorithm.\n",
    "- What are the pros and cons of the different activation functions? How should you decide between them for the different layers of a neural network?"
   ]
  },
  {
   "cell_type": "code",
   "execution_count": 12,
   "metadata": {
    "colab": {},
    "colab_type": "code",
    "id": "Td00iCE6Cfln"
   },
   "outputs": [],
   "source": [
    "# I wrote this library\n",
    "from Fortuna import RelativeWeightedChoice"
   ]
  },
  {
   "cell_type": "code",
   "execution_count": 13,
   "metadata": {
    "colab": {},
    "colab_type": "code",
    "id": "JPU-gI0jCUXG"
   },
   "outputs": [],
   "source": [
    "class ActiveChoice:\n",
    "\n",
    "    def __init__(self, name, data, start=50, lo=1, hi=100):\n",
    "        self.name = name\n",
    "        self.raw_data = {k: start for k in data}\n",
    "        self.start = start\n",
    "        self.lo = lo\n",
    "        self.hi = hi\n",
    "        self.data = self.build()\n",
    "        self.wins = 0.0\n",
    "        self.losses = 0.0\n",
    "\n",
    "    def __call__(self):\n",
    "        return self.data()\n",
    "\n",
    "    def build(self):\n",
    "        return RelativeWeightedChoice(\n",
    "            zip(self.raw_data.values(), self.raw_data.keys()))\n",
    "\n",
    "    def winner(self, result):\n",
    "        self.wins += 1\n",
    "        if self.raw_data[result] < self.hi:\n",
    "            self.raw_data[result] += 1\n",
    "            self.data = self.build()\n",
    "\n",
    "    def looser(self, result):\n",
    "        self.losses += 1\n",
    "        if self.raw_data[result] > self.lo:\n",
    "            self.raw_data[result] -= 1\n",
    "            self.data = self.build()\n",
    "\n",
    "    def win_ratio(self):\n",
    "        total_games = self.wins + self.losses\n",
    "        return self.wins / total_games if total_games else total_games\n",
    "\n",
    "    def __str__(self):\n",
    "        max_weight = max(self.raw_data.values())\n",
    "        output = (\n",
    "            f\"{self.name}: {self.raw_data}\",\n",
    "            f\"Best strategies: \" + \", \".join(\n",
    "                k for k, v in self.raw_data.items() if v == max_weight),\n",
    "            f\"Win Rate: {self.win_ratio():.2%}\",\n",
    "            \"\"\n",
    "        ) if self.win_ratio() else (f\"{self.name}: {self.raw_data}\", \"\")\n",
    "        return \"\\n\".join(output)"
   ]
  },
  {
   "cell_type": "code",
   "execution_count": 14,
   "metadata": {
    "colab": {},
    "colab_type": "code",
    "id": "P5F1K15OCkcQ"
   },
   "outputs": [],
   "source": [
    "def run_game(team_a, team_b, cycles=10000):\n",
    "    game_rules = {\n",
    "        \"rock\": {\n",
    "            \"rock\": 0, \"paper\": -1, \"scissors\": 1, \"lizard\": 1, \"spock\": -1},\n",
    "        \"paper\": {\n",
    "            \"rock\": 1, \"paper\": 0, \"scissors\": -1, \"lizard\": -1, \"spock\": 1},\n",
    "        \"scissors\": {\n",
    "            \"rock\": -1, \"paper\": 1, \"scissors\": 0, \"lizard\": 1, \"spock\": -1},\n",
    "        \"lizard\": {\n",
    "            \"rock\": -1, \"paper\": 1, \"scissors\": -1, \"lizard\": 0, \"spock\": 1},\n",
    "        \"spock\": {\n",
    "            \"rock\": 1, \"paper\": -1, \"scissors\": 1, \"lizard\": -1, \"spock\": 0},\n",
    "    }\n",
    "\n",
    "    def game():\n",
    "        a = team_a()\n",
    "        b = team_b()\n",
    "        this_game = game_rules[a][b]\n",
    "        if this_game > 0:\n",
    "            team_a.winner(a)\n",
    "            team_b.looser(b)\n",
    "        elif this_game < 0:\n",
    "            team_a.looser(a)\n",
    "            team_b.winner(b)\n",
    "        else:\n",
    "            team_a.looser(a)\n",
    "            team_b.looser(b)\n",
    "\n",
    "    for _ in range(cycles):\n",
    "        game()"
   ]
  },
  {
   "cell_type": "code",
   "execution_count": 15,
   "metadata": {
    "colab": {
     "base_uri": "https://localhost:8080/",
     "height": 289
    },
    "colab_type": "code",
    "id": "0BAzBnPeClyo",
    "outputId": "3903e360-00fa-4cae-be0a-fc2c15627cae"
   },
   "outputs": [
    {
     "name": "stdout",
     "output_type": "stream",
     "text": [
      "# Pre Game\n",
      "\n",
      "Team 1: {'lizard': 50, 'scissors': 50}\n",
      "\n",
      "Team 2: {'rock': 50, 'paper': 50, 'spock': 50}\n",
      "\n",
      "# Final Scores\n",
      "\n",
      "Team 1: {'lizard': 1, 'scissors': 1}\n",
      "Best strategies: lizard, scissors\n",
      "Win Rate: 9.03%\n",
      "\n",
      "Team 2: {'rock': 100, 'paper': 1, 'spock': 3}\n",
      "Best strategies: rock\n",
      "Win Rate: 90.97%\n",
      "\n"
     ]
    }
   ],
   "source": [
    "team_1 = ActiveChoice(\"Team 1\", (\"lizard\", \"scissors\"))\n",
    "team_2 = ActiveChoice(\"Team 2\", (\"rock\", \"paper\", \"spock\"))\n",
    "\n",
    "print(\"# Pre Game\\n\")\n",
    "print(team_1)\n",
    "print(team_2)\n",
    "run_game(team_1, team_2)\n",
    "\n",
    "print(\"# Final Scores\\n\")\n",
    "print(team_1)\n",
    "print(team_2)"
   ]
  }
 ],
 "metadata": {
  "colab": {
   "collapsed_sections": [],
   "name": "LS_DS_421_Intro_to_NN_Assignment.ipynb",
   "provenance": []
  },
  "kernelspec": {
   "display_name": "Python 3",
   "language": "python",
   "name": "python3"
  },
  "language_info": {
   "codemirror_mode": {
    "name": "ipython",
    "version": 3
   },
   "file_extension": ".py",
   "mimetype": "text/x-python",
   "name": "python",
   "nbconvert_exporter": "python",
   "pygments_lexer": "ipython3",
   "version": "3.8.3"
  }
 },
 "nbformat": 4,
 "nbformat_minor": 1
}
