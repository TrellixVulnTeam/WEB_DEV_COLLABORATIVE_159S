{
 "cells": [
  {
   "cell_type": "markdown",
   "metadata": {
    "colab_type": "text",
    "id": "9Ryp-TVm4njD"
   },
   "source": [
    "<img align=\"left\" src=\"https://lever-client-logos.s3.amazonaws.com/864372b1-534c-480e-acd5-9711f850815c-1524247202159.png\" width=200>\n",
    "<br></br>\n",
    "\n",
    "# Hyperparameter Tuning\n",
    "\n",
    "## *Data Science Unit 4 Sprint 2 Assignment 4*\n",
    "\n",
    "## Your Mission, should you choose to accept it...\n",
    "\n",
    "To hyperparameter tune and extract every ounce of accuracy out of this telecom customer churn dataset: <https://drive.google.com/file/d/1dfbAsM9DwA7tYhInyflIpZnYs7VT-0AQ/view> \n",
    "\n",
    "## Requirements\n",
    "\n",
    "- Load the data\n",
    "- Clean the data if necessary (it will be)\n",
    "- Create and fit a baseline Keras MLP model to the data.\n",
    "- Hyperparameter tune (at least) the following parameters:\n",
    " - batch_size\n",
    " - training epochs\n",
    " - optimizer\n",
    " - learning rate (if applicable to optimizer)\n",
    " - momentum (if applicable to optimizer)\n",
    " - activation functions\n",
    " - network weight initialization\n",
    " - dropout regularization\n",
    " - number of neurons in the hidden layer\n",
    " \n",
    " You must use Grid Search and Cross Validation for your initial pass of the above hyperparameters\n",
    " \n",
    " Try and get the maximum accuracy possible out of this data! You'll save big telecoms millions! Doesn't that sound great?\n"
   ]
  },
  {
   "cell_type": "code",
   "execution_count": 1,
   "metadata": {
    "colab": {},
    "colab_type": "code",
    "id": "NNJ-tOBs4jM1"
   },
   "outputs": [],
   "source": [
    "import pandas as pd\n",
    "from tensorflow import keras\n",
    "from keras.optimizers import SGD\n",
    "from keras.models import Sequential \n",
    "from keras.layers import Dense, Dropout\n",
    "from sklearn.model_selection import GridSearchCV, RandomizedSearchCV\n",
    "from tensorflow.keras.wrappers.scikit_learn import KerasClassifier\n",
    "from sklearn.model_selection import train_test_split\n",
    "\n",
    "df = pd.read_csv('Customer.csv')"
   ]
  },
  {
   "cell_type": "code",
   "execution_count": 2,
   "metadata": {},
   "outputs": [],
   "source": [
    "def cat_encode(X):\n",
    "    \n",
    "    X = X.copy()\n",
    "\n",
    "    # import labelencoder\n",
    "    from sklearn.preprocessing import LabelEncoder\n",
    "    \n",
    "    le = LabelEncoder()\n",
    "\n",
    "    #Categorical boolean mask\n",
    "    categorical_feature_mask = X.dtypes==object\n",
    "    categorical_cols = X.columns[categorical_feature_mask].tolist()\n",
    "\n",
    "    X[categorical_cols] = X[categorical_cols].apply(lambda col: le.fit_transform(col))\n",
    "    \n",
    "    return X"
   ]
  },
  {
   "cell_type": "code",
   "execution_count": 3,
   "metadata": {},
   "outputs": [
    {
     "name": "stdout",
     "output_type": "stream",
     "text": [
      "Baseline Accuracy: 0.7346301292063041\n"
     ]
    }
   ],
   "source": [
    "df = cat_encode(df)\n",
    "target = 'Churn'\n",
    "features = ['gender', 'SeniorCitizen', 'Partner', 'Dependents',\n",
    "       'tenure', 'PhoneService', 'MultipleLines', 'InternetService',\n",
    "       'OnlineSecurity', 'OnlineBackup', 'DeviceProtection', 'TechSupport',\n",
    "       'StreamingTV', 'StreamingMovies', 'Contract', 'PaperlessBilling',\n",
    "       'PaymentMethod', 'MonthlyCharges', 'TotalCharges']\n",
    "\n",
    "X = df[features]\n",
    "y = df[target]\n",
    "\n",
    "#Identify target in our df and set the predicted value to the mode\n",
    "y_true = df['Churn']\n",
    "majority = df['Churn'].mode()[0]\n",
    "\n",
    "#Create a list of predictions for the length of our df\n",
    "y_pred = [majority] * len(y_true)\n",
    "\n",
    "#Use accuracy_score to check our baseline accuracy\n",
    "from sklearn.metrics import accuracy_score\n",
    "print(\"Baseline Accuracy:\", accuracy_score(y_true, y_pred))"
   ]
  },
  {
   "cell_type": "code",
   "execution_count": 4,
   "metadata": {},
   "outputs": [
    {
     "data": {
      "text/plain": [
       "((5634, 19), (1409, 19), (5634,), (1409,))"
      ]
     },
     "execution_count": 4,
     "metadata": {},
     "output_type": "execute_result"
    }
   ],
   "source": [
    "X_train, X_test, y_train, y_test = train_test_split(\n",
    "    X, \n",
    "    y,\n",
    "    test_size=0.2)\n",
    "\n",
    "X_train.shape, X_test.shape, y_train.shape, y_test.shape"
   ]
  },
  {
   "cell_type": "code",
   "execution_count": 5,
   "metadata": {},
   "outputs": [],
   "source": [
    "batch_size = 20\n",
    "num_classes = 2\n",
    "epochs = 10\n",
    "\n",
    "opt = SGD(lr=0.1, momentum=0.9)"
   ]
  },
  {
   "cell_type": "code",
   "execution_count": 6,
   "metadata": {},
   "outputs": [],
   "source": [
    "model = Sequential()\n",
    "model.add(Dense(5, activation='relu', input_shape=(19,)))\n",
    "model.add(Dense(3, activation='relu'))\n",
    "model.add(Dense(3, activation='relu'))\n",
    "model.add(Dense(1, activation='sigmoid'))\n",
    "model.compile(\n",
    "    loss='binary_crossentropy', \n",
    "    optimizer=opt, \n",
    "    metrics=['accuracy'],\n",
    ")\n",
    "\n",
    "history = model.fit(\n",
    "    X_train, \n",
    "    y_train, \n",
    "    validation_data=(X_test, y_test), \n",
    "    epochs=epochs,\n",
    "    batch_size=batch_size,\n",
    "    verbose=0)"
   ]
  },
  {
   "cell_type": "code",
   "execution_count": 7,
   "metadata": {},
   "outputs": [
    {
     "name": "stdout",
     "output_type": "stream",
     "text": [
      "Test accuracy: 0.740241289138794\n"
     ]
    }
   ],
   "source": [
    "score = model.evaluate(X_test, y_test, verbose=0)\n",
    "print('Test accuracy:', score[1])"
   ]
  },
  {
   "cell_type": "code",
   "execution_count": 8,
   "metadata": {},
   "outputs": [],
   "source": [
    "def create_model():  \n",
    "    model = Sequential()\n",
    "    model.add(Dense(128, activation='relu', input_shape=(19,)))\n",
    "    model.add(Dense(64, activation='relu'))\n",
    "    model.add(Dense(32, activation='relu'))\n",
    "    model.add(Dense(1, activation='sigmoid'))\n",
    "    model.compile(loss='binary_crossentropy', metrics=['accuracy'], optimizer='adam')\n",
    "    return model\n",
    "\n",
    "# create model\n",
    "model = KerasClassifier(\n",
    "    build_fn=create_model, \n",
    "    verbose=0, \n",
    "    batch_size=2, \n",
    ")\n",
    "\n",
    "# define the grid search parameters\n",
    "param_grid = {\n",
    "    'epochs': [5],\n",
    "}"
   ]
  },
  {
   "cell_type": "code",
   "execution_count": 9,
   "metadata": {},
   "outputs": [
    {
     "name": "stdout",
     "output_type": "stream",
     "text": [
      "Best: 0.7376596689224243 using {'epochs': 5}\n",
      "Means: 0.7376596689224243, Stdev: 0.015438246081261318 with: {'epochs': 5}\n"
     ]
    }
   ],
   "source": [
    "# Create Grid Search\n",
    "grid = GridSearchCV(estimator=model, param_grid=param_grid, n_jobs=8)\n",
    "grid_result = grid.fit(X_train, y_train)\n",
    "\n",
    "# Report Results\n",
    "print(f\"Best: {grid_result.best_score_} using {grid_result.best_params_}\")\n",
    "means = grid_result.cv_results_['mean_test_score']\n",
    "stds = grid_result.cv_results_['std_test_score']\n",
    "params = grid_result.cv_results_['params']\n",
    "for mean, stdev, param in zip(means, stds, params):\n",
    "    print(f\"Means: {mean}, Stdev: {stdev} with: {param}\")"
   ]
  },
  {
   "cell_type": "markdown",
   "metadata": {
    "colab_type": "text",
    "id": "FfZRtJ7MCN3x"
   },
   "source": [
    "## Stretch Goals:\n",
    "\n",
    "- Try to implement Random Search Hyperparameter Tuning on this dataset\n",
    "- Try to implement Bayesian Optimiation tuning on this dataset using hyperas or hyperopt (if you're brave)\n",
    "- Practice hyperparameter tuning other datasets that we have looked at. How high can you get MNIST? Above 99%?\n",
    "- Study for the Sprint Challenge\n",
    " - Can you implement both perceptron and MLP models from scratch with forward and backpropagation?\n",
    " - Can you implement both perceptron and MLP models in keras and tune their hyperparameters with cross validation?"
   ]
  },
  {
   "cell_type": "code",
   "execution_count": 10,
   "metadata": {},
   "outputs": [],
   "source": [
    "def create_model_beta(depth, drop, activation):  \n",
    "    model = Sequential()\n",
    "    model.add(Dense(depth, activation=activation, input_shape=(19,)))\n",
    "    model.add(Dropout(drop))\n",
    "    model.add(Dense(depth, activation=activation))\n",
    "    model.add(Dropout(drop))\n",
    "    model.add(Dense(depth, activation=activation))\n",
    "    model.add(Dropout(drop))\n",
    "    model.add(Dense(1, activation='sigmoid'))\n",
    "    model.compile(loss='binary_crossentropy', metrics=['accuracy'], optimizer='adam')\n",
    "    return model"
   ]
  },
  {
   "cell_type": "code",
   "execution_count": 11,
   "metadata": {},
   "outputs": [],
   "source": [
    "model = KerasClassifier(\n",
    "    verbose=0,\n",
    "    build_fn=create_model_beta,\n",
    "    batch_size=16,\n",
    "    epochs=100,\n",
    "    drop=0.15,\n",
    "    activation='linear',\n",
    ")\n",
    "\n",
    "param_distributions = {\n",
    "#     'batch_size': range(12, 24, 2),\n",
    "#     'epochs': range(80, 150, 5),\n",
    "#     'drop': [0.1, 0.15, 0.2, 0.25, 0.3],\n",
    "#     'activation': ['tanh', 'relu', 'linear', 'softmax', 'softplus', 'softsign', 'sigmoid', 'hard_sigmoid'],\n",
    "#     'activation': ['relu', 'linear', 'softplus'],\n",
    "    'depth': range(100, 400, 100),\n",
    "}\n",
    "\n",
    "search = RandomizedSearchCV(\n",
    "    estimator=model,\n",
    "    param_distributions=param_distributions,\n",
    "    cv=3,\n",
    "    n_iter=3,\n",
    "    n_jobs=8,\n",
    "    random_state=42,\n",
    ")"
   ]
  },
  {
   "cell_type": "code",
   "execution_count": 12,
   "metadata": {},
   "outputs": [
    {
     "name": "stdout",
     "output_type": "stream",
     "text": [
      "Best: 0.7964146335919698 using {'depth': 300}\n",
      "Means: 0.7941072185834249, Stdev: 0.005590361026398337 with: {'depth': 100}\n",
      "Means: 0.7774227857589722, Stdev: 0.012697935333049132 with: {'depth': 200}\n",
      "Means: 0.7964146335919698, Stdev: 0.0025101539057128196 with: {'depth': 300}\n"
     ]
    }
   ],
   "source": [
    "# Fit RandomizedSearchCV Model\n",
    "search_result = search.fit(X_train, y_train)\n",
    "\n",
    "# Report Results\n",
    "print(f\"Best: {search_result.best_score_} using {search_result.best_params_}\")\n",
    "means = search_result.cv_results_['mean_test_score']\n",
    "stds = search_result.cv_results_['std_test_score']\n",
    "params = search_result.cv_results_['params']\n",
    "for mean, stdev, param in zip(means, stds, params):\n",
    "    print(f\"Means: {mean}, Stdev: {stdev} with: {param}\")"
   ]
  },
  {
   "cell_type": "markdown",
   "metadata": {},
   "source": [
    "### Take 2"
   ]
  },
  {
   "cell_type": "code",
   "execution_count": 13,
   "metadata": {},
   "outputs": [],
   "source": [
    "def create_model(n_nodes, drop, activation, input_shape, output_size, n_layers):\n",
    "    model = Sequential()\n",
    "    model.add(Dense(n_nodes, activation=activation, input_shape=input_shape))\n",
    "    model.add(Dropout(drop))\n",
    "\n",
    "    for _ in range(n_layers):\n",
    "        model.add(Dense(n_nodes, activation=activation))\n",
    "        model.add(Dropout(drop))\n",
    "\n",
    "    if output_size == 1:\n",
    "        model.add(Dense(output_size, activation='sigmoid'))\n",
    "        model.compile(loss='binary_crossentropy', metrics=['accuracy'], optimizer='adam')\n",
    "    else:\n",
    "        model.add(Dense(output_size, activation='softmax'))\n",
    "        model.compile(loss='categorical_crossentropy', metrics=['accuracy'], optimizer='adam')\n",
    "\n",
    "    return model"
   ]
  },
  {
   "cell_type": "markdown",
   "metadata": {},
   "source": [
    "It can take a while to search all these params at once!"
   ]
  },
  {
   "cell_type": "code",
   "execution_count": 16,
   "metadata": {},
   "outputs": [
    {
     "name": "stdout",
     "output_type": "stream",
     "text": [
      "Epoch 1/40\n",
      "529/529 [==============================] - 1s 1ms/step - loss: 5.0408 - accuracy: 0.6221\n",
      "Epoch 2/40\n",
      "529/529 [==============================] - 1s 1ms/step - loss: 0.8551 - accuracy: 0.6671\n",
      "Epoch 3/40\n",
      "529/529 [==============================] - 1s 1ms/step - loss: 0.6722 - accuracy: 0.7072: 0s - loss: 0.6723 - accuracy: 0.\n",
      "Epoch 4/40\n",
      "529/529 [==============================] - 1s 1ms/step - loss: 0.6102 - accuracy: 0.7250\n",
      "Epoch 5/40\n",
      "529/529 [==============================] - 1s 1ms/step - loss: 0.5957 - accuracy: 0.7300\n",
      "Epoch 6/40\n",
      "529/529 [==============================] - 1s 1ms/step - loss: 0.5842 - accuracy: 0.7330\n",
      "Epoch 7/40\n",
      "529/529 [==============================] - 1s 1ms/step - loss: 0.5778 - accuracy: 0.7319\n",
      "Epoch 8/40\n",
      "529/529 [==============================] - 1s 1ms/step - loss: 0.5758 - accuracy: 0.7359\n",
      "Epoch 9/40\n",
      "529/529 [==============================] - 1s 1ms/step - loss: 0.5739 - accuracy: 0.7367\n",
      "Epoch 10/40\n",
      "529/529 [==============================] - 1s 1ms/step - loss: 0.5683 - accuracy: 0.7371\n",
      "Epoch 11/40\n",
      "529/529 [==============================] - 1s 1ms/step - loss: 0.5668 - accuracy: 0.7351\n",
      "Epoch 12/40\n",
      "529/529 [==============================] - 1s 1ms/step - loss: 0.5599 - accuracy: 0.7382\n",
      "Epoch 13/40\n",
      "529/529 [==============================] - 1s 1ms/step - loss: 0.5580 - accuracy: 0.7381\n",
      "Epoch 14/40\n",
      "529/529 [==============================] - 1s 1ms/step - loss: 0.5466 - accuracy: 0.7384\n",
      "Epoch 15/40\n",
      "529/529 [==============================] - 1s 1ms/step - loss: 0.5545 - accuracy: 0.7357\n",
      "Epoch 16/40\n",
      "529/529 [==============================] - 1s 1ms/step - loss: 0.5581 - accuracy: 0.7390\n",
      "Epoch 17/40\n",
      "529/529 [==============================] - 1s 1ms/step - loss: 0.5390 - accuracy: 0.7381\n",
      "Epoch 18/40\n",
      "529/529 [==============================] - 1s 1ms/step - loss: 0.5130 - accuracy: 0.7356\n",
      "Epoch 19/40\n",
      "529/529 [==============================] - 1s 1ms/step - loss: 0.5119 - accuracy: 0.7368\n",
      "Epoch 20/40\n",
      "529/529 [==============================] - 1s 1ms/step - loss: 0.5036 - accuracy: 0.7457\n",
      "Epoch 21/40\n",
      "529/529 [==============================] - 1s 1ms/step - loss: 0.4867 - accuracy: 0.7594\n",
      "Epoch 22/40\n",
      "529/529 [==============================] - 1s 1ms/step - loss: 0.4917 - accuracy: 0.7531\n",
      "Epoch 23/40\n",
      "529/529 [==============================] - 1s 1ms/step - loss: 0.4760 - accuracy: 0.7654\n",
      "Epoch 24/40\n",
      "529/529 [==============================] - 1s 1ms/step - loss: 0.4790 - accuracy: 0.7594\n",
      "Epoch 25/40\n",
      "529/529 [==============================] - 1s 1ms/step - loss: 0.4700 - accuracy: 0.7622\n",
      "Epoch 26/40\n",
      "529/529 [==============================] - 1s 1ms/step - loss: 0.4706 - accuracy: 0.7630\n",
      "Epoch 27/40\n",
      "529/529 [==============================] - 1s 1ms/step - loss: 0.4666 - accuracy: 0.7689\n",
      "Epoch 28/40\n",
      "529/529 [==============================] - 1s 1ms/step - loss: 0.4629 - accuracy: 0.7595\n",
      "Epoch 29/40\n",
      "529/529 [==============================] - 1s 1ms/step - loss: 0.4622 - accuracy: 0.7703\n",
      "Epoch 30/40\n",
      "529/529 [==============================] - 1s 1ms/step - loss: 0.4603 - accuracy: 0.7796\n",
      "Epoch 31/40\n",
      "529/529 [==============================] - 1s 1ms/step - loss: 0.4576 - accuracy: 0.7747\n",
      "Epoch 32/40\n",
      "529/529 [==============================] - 1s 1ms/step - loss: 0.4537 - accuracy: 0.7753\n",
      "Epoch 33/40\n",
      "529/529 [==============================] - 1s 1ms/step - loss: 0.4539 - accuracy: 0.7766\n",
      "Epoch 34/40\n",
      "529/529 [==============================] - 1s 1ms/step - loss: 0.4519 - accuracy: 0.7790\n",
      "Epoch 35/40\n",
      "529/529 [==============================] - 1s 1ms/step - loss: 0.4469 - accuracy: 0.7827\n",
      "Epoch 36/40\n",
      "529/529 [==============================] - 1s 1ms/step - loss: 0.4532 - accuracy: 0.7769\n",
      "Epoch 37/40\n",
      "529/529 [==============================] - 1s 1ms/step - loss: 0.4539 - accuracy: 0.7725\n",
      "Epoch 38/40\n",
      "529/529 [==============================] - 1s 1ms/step - loss: 0.4491 - accuracy: 0.7785\n",
      "Epoch 39/40\n",
      "529/529 [==============================] - 1s 1ms/step - loss: 0.4479 - accuracy: 0.7785\n",
      "Epoch 40/40\n",
      "529/529 [==============================] - 1s 1ms/step - loss: 0.4522 - accuracy: 0.7775\n",
      "Best: 0.7887350916862488 using {}\n"
     ]
    }
   ],
   "source": [
    "X_train, X_test, y_train, y_test = train_test_split(X, y, test_size=0.1, stratify=y)\n",
    "\n",
    "classifier = KerasClassifier(\n",
    "    build_fn=create_model,\n",
    "    input_shape=X_train.columns.shape,\n",
    "    output_size=1,\n",
    "#     batch_size=12,\n",
    "#     epochs=40,\n",
    "#     drop=0.1,\n",
    "#     activation='softplus',\n",
    "#     n_nodes=64,\n",
    "#     n_layers=4,\n",
    ")\n",
    "\n",
    "param_distributions = {\n",
    "    'batch_size': range(2, 24, 2),\n",
    "    'epochs': range(20, 200, 20),\n",
    "    'drop': [0.1, 0.15, 0.2, 0.25, 0.3],\n",
    "    'activation': ['tanh', 'relu', 'linear', 'softmax', 'softplus', 'softsign', 'sigmoid', 'hard_sigmoid'],\n",
    "    'n_nodes': range(32, 161, 32),\n",
    "    'n_layers': range(2, 6),\n",
    "}\n",
    "\n",
    "search = RandomizedSearchCV(\n",
    "    estimator=classifier,\n",
    "    param_distributions=param_distributions,\n",
    "    cv=3,\n",
    "    n_iter=100,\n",
    "    n_jobs=8,\n",
    "    random_state=42,\n",
    ")\n",
    "\n",
    "search_result = search.fit(X_train, y_train)\n",
    "\n",
    "print(f\"Best: {search_result.best_score_} using {search_result.best_params_}\")\n",
    "means = search_result.cv_results_['mean_test_score']\n",
    "stds = search_result.cv_results_['std_test_score']\n",
    "params = search_result.cv_results_['params']"
   ]
  },
  {
   "cell_type": "code",
   "execution_count": null,
   "metadata": {},
   "outputs": [],
   "source": []
  }
 ],
 "metadata": {
  "colab": {
   "name": "LS_DS_434_Hyperparameter_Tuning_Assignment.ipynb",
   "provenance": [],
   "version": "0.3.2"
  },
  "kernelspec": {
   "display_name": "Python 3",
   "language": "python",
   "name": "python3"
  },
  "language_info": {
   "codemirror_mode": {
    "name": "ipython",
    "version": 3
   },
   "file_extension": ".py",
   "mimetype": "text/x-python",
   "name": "python",
   "nbconvert_exporter": "python",
   "pygments_lexer": "ipython3",
   "version": "3.8.5"
  }
 },
 "nbformat": 4,
 "nbformat_minor": 4
}
